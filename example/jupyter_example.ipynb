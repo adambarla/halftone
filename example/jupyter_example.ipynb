{
 "cells": [
  {
   "cell_type": "code",
   "execution_count": null,
   "id": "6ab58fb9-f781-4d32-9a6c-b1a6c8e55a20",
   "metadata": {},
   "outputs": [],
   "source": [
    "import sys\n",
    "import numpy as np\n",
    "sys.path.append(\"..\")  # add path to the python module"
   ]
  },
  {
   "cell_type": "code",
   "execution_count": null,
   "id": "c652e945-a407-4530-bb13-f7c94610c951",
   "metadata": {},
   "outputs": [],
   "source": [
    "from src.halftone import (\n",
    "    generate_halftone,\n",
    "    get_paper_sizes,\n",
    ")  # import functions from the module"
   ]
  },
  {
   "cell_type": "code",
   "execution_count": null,
   "id": "6180178d-9ccf-4158-9257-9a89d48a813f",
   "metadata": {},
   "outputs": [],
   "source": [
    "paper_w = 0.141 # 14.1 cm\n",
    "paper_h = 0.1 # 10 cm\n",
    "max_dot_size = 0.003  # 3 millimeters (diameter)\n",
    "pad = 0.005  # 0.5 centimeters of padding\n",
    "image_path = \"tatry.jpeg\"\n",
    "save_path = \".\"\n",
    "lws = [0.4, 0.4, 0.4, 0.4] # line width adjusted for the thickness of the pen used for plotting\n",
    "alphas = [0.8, 0.8, 0.8, 0.8] # opacity, doesn't have an effect on printing with plotter but shows the color interactions better\n",
    "\n",
    "generate_halftone(\n",
    "    image_path, save_path, paper_w, paper_h, max_dot_size, lws=lws, alphas=alphas, pad=pad\n",
    ")"
   ]
  },
  {
   "cell_type": "markdown",
   "id": "01e013e0-2926-457d-8909-fc64071e360b",
   "metadata": {},
   "source": [
    "### A-standard paper sizes"
   ]
  },
  {
   "cell_type": "code",
   "execution_count": null,
   "id": "177a7d51-6d79-401f-b2a3-8a5145f8bb41",
   "metadata": {},
   "outputs": [],
   "source": [
    "hs, ws = get_paper_sizes(n=5)  # gets dimensions of A0, A1, ..., An paper standars\n",
    "a = 4\n",
    "hs[a], ws[a]"
   ]
  },
  {
   "cell_type": "code",
   "execution_count": null,
   "id": "a66d3682-97b6-499b-9b6a-6c3704c15d36",
   "metadata": {},
   "outputs": [],
   "source": []
  }
 ],
 "metadata": {
  "kernelspec": {
   "display_name": "Python 3 (ipykernel)",
   "language": "python",
   "name": "python3"
  },
  "language_info": {
   "codemirror_mode": {
    "name": "ipython",
    "version": 3
   },
   "file_extension": ".py",
   "mimetype": "text/x-python",
   "name": "python",
   "nbconvert_exporter": "python",
   "pygments_lexer": "ipython3",
   "version": "3.12.4"
  }
 },
 "nbformat": 4,
 "nbformat_minor": 5
}
