{
 "cells": [
  {
   "cell_type": "code",
   "execution_count": null,
   "id": "6ab58fb9-f781-4d32-9a6c-b1a6c8e55a20",
   "metadata": {},
   "outputs": [],
   "source": [
    "import sys\n",
    "import numpy as np\n",
    "sys.path.append(\"..\")  # add path to the python module"
   ]
  },
  {
   "cell_type": "code",
   "execution_count": null,
   "id": "c652e945-a407-4530-bb13-f7c94610c951",
   "metadata": {},
   "outputs": [],
   "source": [
    "from src.halftone import (\n",
    "    generate_halftone,\n",
    "    get_paper_sizes,\n",
    ")  # import functions from the module"
   ]
  },
  {
   "cell_type": "code",
   "execution_count": null,
   "id": "6180178d-9ccf-4158-9257-9a89d48a813f",
   "metadata": {},
   "outputs": [],
   "source": [
    "hs, ws = get_paper_sizes(n=5)  # gets dimensions of A0, A1, ..., An paper standars\n",
    "a = 4  # A4 paper\n",
    "max_dot_size = 0.005  # 5 millimeters (diameter)\n",
    "pad = 0.02  # 2 centimeters of padding\n",
    "image_path = \"tatry.jpeg\"\n",
    "save_path = \".\"\n",
    "alphas = np.array(\n",
    "    [0.3, 0.5, 0.7, 1]\n",
    ")  # adjusting alphas based on markers i had on hand to better match colors\n",
    "\n",
    "generate_halftone(\n",
    "    image_path, save_path, ws[a], hs[a], max_dot_size, alphas=alphas, pad=pad\n",
    ")"
   ]
  },
  {
   "cell_type": "code",
   "execution_count": null,
   "id": "5a738365-0937-4469-99ff-4225e5b640be",
   "metadata": {},
   "outputs": [],
   "source": []
  }
 ],
 "metadata": {
  "kernelspec": {
   "display_name": "Python 3 (ipykernel)",
   "language": "python",
   "name": "python3"
  },
  "language_info": {
   "codemirror_mode": {
    "name": "ipython",
    "version": 3
   },
   "file_extension": ".py",
   "mimetype": "text/x-python",
   "name": "python",
   "nbconvert_exporter": "python",
   "pygments_lexer": "ipython3",
   "version": "3.12.4"
  }
 },
 "nbformat": 4,
 "nbformat_minor": 5
}
